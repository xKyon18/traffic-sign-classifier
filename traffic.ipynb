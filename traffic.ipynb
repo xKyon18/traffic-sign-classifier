{
 "cells": [
  {
   "cell_type": "code",
   "execution_count": 1,
   "metadata": {},
   "outputs": [],
   "source": [
    "import os\n",
    "import numpy as np\n",
    "import pandas as pd\n",
    "import matplotlib.pyplot as plt\n",
    "import pickle\n",
    "import random\n",
    "from skimage import io, transform, exposure\n",
    "from skimage.transform import ProjectiveTransform"
   ]
  },
  {
   "cell_type": "code",
   "execution_count": 2,
   "metadata": {},
   "outputs": [],
   "source": [
    "training_data = {\n",
    "    'feature': [],\n",
    "    'label': []\n",
    "}\n",
    "\n",
    "base_dir = os.path.join(os.getcwd(), 'Training_Images')"
   ]
  },
  {
   "cell_type": "code",
   "execution_count": 3,
   "metadata": {},
   "outputs": [],
   "source": [
    "for i, folder in enumerate(os.listdir(base_dir)):\n",
    "    folder_path = os.path.join(base_dir, folder)\n",
    "    for file in os.listdir(folder_path):\n",
    "        if file.endswith('ppm'):\n",
    "            file_path = os.path.join(folder_path, file)\n",
    "            image = np.array(io.imread(file_path))\n",
    "            image = transform.resize(image, (32, 32), mode='edge')\n",
    "            training_data['feature'].append(image)\n",
    "            training_data['label'].append(i)"
   ]
  },
  {
   "cell_type": "code",
   "execution_count": null,
   "metadata": {},
   "outputs": [],
   "source": [
    "print(len(training_data['feature']), len(training_data['label']))"
   ]
  },
  {
   "cell_type": "code",
   "execution_count": 5,
   "metadata": {},
   "outputs": [],
   "source": [
    "with open('trainingData.pkl', 'wb') as file:\n",
    "    pickle.dump(training_data, file)"
   ]
  },
  {
   "cell_type": "code",
   "execution_count": null,
   "metadata": {},
   "outputs": [],
   "source": [
    "classes, classIndex, classCount = np.unique(training_data['label'], return_index=True, return_counts='True')\n",
    "plt.bar(classes, classCount)\n",
    "plt.xlabel('Classification')\n",
    "plt.ylabel('Number of Examples')\n",
    "plt.title('Traffic Classifier Data')\n",
    "plt.show()"
   ]
  },
  {
   "cell_type": "code",
   "execution_count": 2,
   "metadata": {},
   "outputs": [],
   "source": [
    "df = pd.read_csv('trafficsignclassifier.csv')\n",
    "with open('trainingData.pkl', 'rb') as file:\n",
    "    pickled_data = pickle.load(file)"
   ]
  },
  {
   "cell_type": "code",
   "execution_count": null,
   "metadata": {},
   "outputs": [],
   "source": [
    "print(len(pickled_data['feature']), len(pickled_data['label']))"
   ]
  },
  {
   "cell_type": "code",
   "execution_count": null,
   "metadata": {},
   "outputs": [],
   "source": [
    "\n",
    "for c, index, count in zip(classes, classIndex, classCount):\n",
    "    print(f'Class {c}: {df['signNames'][c]}')\n",
    "    print(f'Samples: {count}')\n",
    "    fig = plt.figure(figsize=(6, 1))\n",
    "    fig.subplots_adjust(left=0, right=1, top=1, bottom=0, hspace=0.05, wspace=0.05)\n",
    "    randomSample = random.sample(range(index, index + count - 1), 10)\n",
    "    for i in range(10):\n",
    "        axis = fig.add_subplot(1, 10, i + 1, xticks=[], yticks=[])\n",
    "        axis.imshow(training_data['feature'][randomSample[i]])\n",
    "    plt.show()"
   ]
  },
  {
   "cell_type": "code",
   "execution_count": 4,
   "metadata": {},
   "outputs": [],
   "source": [
    "#Image Transform/Augmentate Functions\n",
    "def image_flip(feature, label=None):\n",
    "    vert = [1, 5, 12, 15, 17]\n",
    "    hori = [11, 12, 13, 15, 17, 18, 22, 26, 30, 35]\n",
    "    both = [32, 40]\n",
    "    chng = {19: 20, 20: 19,\n",
    "            33: 34, 34: 33,\n",
    "            36: 37, 37: 36,\n",
    "            38: 39, 39: 38}\n",
    "\n",
    "    if label in vert:\n",
    "        vert_flipped = np.flip(feature, axis=0)\n",
    "        yield vert_flipped, label\n",
    "    \n",
    "    if label in hori:\n",
    "        hori_flipped = np.flip(feature, axis=1)\n",
    "        yield hori_flipped, label\n",
    "    \n",
    "    if label in both:\n",
    "        new_image = np.flip(feature, axis=(0, 1))\n",
    "        yield new_image, label\n",
    "    \n",
    "    if label in chng:\n",
    "        flipped_image = np.flip(feature, axis=0)\n",
    "        yield flipped_image, chng[label]\n",
    "    \n",
    "\n",
    "def image_warp(feature, label=None, intensity=0.75):\n",
    "    delta = 32 * .3 * intensity\n",
    "    tl_top = random.uniform(-delta, delta)\n",
    "    tl_left = random.uniform(-delta, delta)\n",
    "    bl_bot = random.uniform(-delta, delta)\n",
    "    bl_left = random.uniform(-delta, delta)\n",
    "    tr_top = random.uniform(-delta, delta)\n",
    "    tr_right = random.uniform(-delta, delta)\n",
    "    br_bot = random.uniform(-delta, delta)\n",
    "    br_right = random.uniform(-delta, delta)\n",
    "\n",
    "    tf = ProjectiveTransform()\n",
    "    tf.estimate(np.array(((tl_left, tl_top), \n",
    "                          (bl_left, 32 - bl_bot), \n",
    "                          (32 - br_right, 32 - br_bot), \n",
    "                          (32 - tr_right, tr_top))),\n",
    "                np.array(((0, 0),\n",
    "                          (0, 32),\n",
    "                          (32, 32),\n",
    "                          (32, 0)))\n",
    "                )\n",
    "\n",
    "    new_image = transform.warp(feature, tf, order=1, mode='edge')\n",
    "    yield new_image, label\n",
    "\n",
    "def image_rotate(feature, label=None, intensity=0.75):\n",
    "    delta = 30 * intensity\n",
    "    new_image = transform.rotate(feature, angle=(random.uniform(-delta, delta)), mode='edge')\n",
    "    yield new_image, label\n",
    "\n",
    "def grayscale_contrast(feature, label=None):\n",
    "    new_image = 0.2989 * feature[:, :, 0] + 0.5870 * feature[:, :, 1] + 0.1140 * feature[:, :, 2]\n",
    "    new_image = exposure.equalize_adapthist(new_image)\n",
    "    return new_image, label"
   ]
  },
  {
   "cell_type": "markdown",
   "metadata": {},
   "source": [
    "Functions"
   ]
  },
  {
   "cell_type": "code",
   "execution_count": null,
   "metadata": {},
   "outputs": [],
   "source": [
    "\n",
    "img = pickled_data['feature'][random.randint(0, len(pickled_data['feature']))]\n",
    "rot, _ = image_rotate(img)\n",
    "gray, _ = grayscale_contrast(img)\n",
    "rot_gray, _ = grayscale_contrast(rot)\n",
    "flipped = np.flip(img, axis=0)\n",
    "flipped1 = np.flip(img, axis=1)\n",
    "flipped2 = np.flip(img, axis=(0, 1))\n",
    "\n",
    "fig, axs = plt.subplots(1, 7, figsize=(5, 5))\n",
    "axs[0].imshow(img)\n",
    "axs[0].set_xticks([])\n",
    "axs[0].set_yticks([])\n",
    "axs[1].imshow(rot)\n",
    "axs[1].set_xticks([])\n",
    "axs[1].set_yticks([])\n",
    "axs[2].imshow(gray, cmap=plt.cm.gray)\n",
    "axs[2].set_xticks([])\n",
    "axs[2].set_yticks([])\n",
    "axs[3].imshow(rot_gray, cmap=plt.cm.gray)\n",
    "axs[3].set_xticks([])\n",
    "axs[3].set_yticks([])\n",
    "axs[4].imshow(flipped)\n",
    "axs[4].set_xticks([])\n",
    "axs[4].set_yticks([])\n",
    "axs[5].imshow(flipped1)\n",
    "axs[5].set_xticks([])\n",
    "axs[5].set_yticks([])\n",
    "axs[6].imshow(flipped2)\n",
    "axs[6].set_xticks([])\n",
    "axs[6].set_yticks([])\n",
    "plt.show()\n"
   ]
  },
  {
   "cell_type": "code",
   "execution_count": null,
   "metadata": {},
   "outputs": [],
   "source": [
    "feature, label = pickled_data['feature'][:], pickled_data['label'][:]\n",
    "\n",
    "for feat, labl in zip(feature[:], label[:]):\n",
    "    for f, l in image_flip(feat, labl):\n",
    "        feature.append(f)\n",
    "        label.append(l)\n",
    "\n",
    "print('Done Filp')\n",
    "\n",
    "for feat, labl in zip(feature[:], label[:]):\n",
    "    for f, l in image_rotate(feat, labl):\n",
    "        feature.append(f)\n",
    "        label.append(l)\n",
    "\n",
    "print('Done Rotate')\n",
    "\n",
    "for feat, labl in zip(feature[:], label[:]):\n",
    "    for f, l in image_warp(feat, labl):\n",
    "        feature.append(f)\n",
    "        label.append(l)\n",
    "\n",
    "print('Done Warp')\n",
    "\n",
    "print(len(feature), len(label))\n"
   ]
  },
  {
   "cell_type": "markdown",
   "metadata": {},
   "source": [
    "Unbalanced Dataset"
   ]
  },
  {
   "cell_type": "code",
   "execution_count": null,
   "metadata": {},
   "outputs": [],
   "source": [
    "classes, classIndex, classCount = np.unique(label, return_index=True, return_counts='True')\n",
    "plt.bar(classes, classCount)\n",
    "plt.xlabel('Classification')\n",
    "plt.ylabel('Number of Examples')\n",
    "plt.title('Traffic Classifier Data')\n",
    "plt.show()"
   ]
  },
  {
   "cell_type": "code",
   "execution_count": null,
   "metadata": {},
   "outputs": [],
   "source": [
    "classes, classIndex, classCount = np.unique(pickled_data['label'], return_index=True, return_counts='True')\n",
    "plt.bar(classes, classCount)\n",
    "plt.xlabel('Classification')\n",
    "plt.ylabel('Number of Examples')\n",
    "plt.title('Traffic Classifier Data')\n",
    "plt.show()"
   ]
  }
 ],
 "metadata": {
  "kernelspec": {
   "display_name": "Python 3",
   "language": "python",
   "name": "python3"
  },
  "language_info": {
   "codemirror_mode": {
    "name": "ipython",
    "version": 3
   },
   "file_extension": ".py",
   "mimetype": "text/x-python",
   "name": "python",
   "nbconvert_exporter": "python",
   "pygments_lexer": "ipython3",
   "version": "3.12.6"
  }
 },
 "nbformat": 4,
 "nbformat_minor": 2
}
