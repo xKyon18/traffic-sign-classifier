{
 "cells": [
  {
   "cell_type": "code",
   "execution_count": 1,
   "metadata": {},
   "outputs": [],
   "source": [
    "import os\n",
    "import numpy as np\n",
    "import pandas as pd\n",
    "import matplotlib.pyplot as plt\n",
    "import pickle\n",
    "import random\n",
    "from skimage import io, transform, exposure\n",
    "from skimage.transform import ProjectiveTransform, rotate, warp"
   ]
  },
  {
   "cell_type": "markdown",
   "metadata": {},
   "source": [
    "# Data Processing"
   ]
  },
  {
   "cell_type": "code",
   "execution_count": 22,
   "metadata": {},
   "outputs": [],
   "source": [
    "def save_data(datafile, data):\n",
    "    with open(datafile, 'wb') as file:\n",
    "        pickle.dump(data, file)\n",
    "\n",
    "def load_data(datafile):\n",
    "    with open(datafile, 'rb') as file:\n",
    "        return pickle.load(file)"
   ]
  },
  {
   "cell_type": "code",
   "execution_count": null,
   "metadata": {},
   "outputs": [],
   "source": [
    "#Loading Training Data\n",
    "base_dir = os.path.join(os.getcwd(), 'Training_Images')\n",
    "train_data = {i : [] for i in range(len(os.listdir(base_dir)))}\n",
    "for i, folder in zip(train_data, os.listdir(base_dir)):\n",
    "    folder_path = os.path.join(base_dir, folder)\n",
    "    for file in os.listdir(folder_path):\n",
    "        if file.endswith('ppm'):\n",
    "            file_path = os.path.join(folder_path, file)\n",
    "            image = np.array(io.imread(file_path))\n",
    "            image = transform.resize(image, (32, 32), mode='edge')\n",
    "            train_data[i].append(image)\n",
    "\n"
   ]
  },
  {
   "cell_type": "code",
   "execution_count": 21,
   "metadata": {},
   "outputs": [
    {
     "name": "stdout",
     "output_type": "stream",
     "text": [
      "12630 12630\n"
     ]
    }
   ],
   "source": [
    "#Load Test Data\n",
    "df =  pd.read_csv('Test.csv')\n",
    "test_data = {\n",
    "    'feature' : [],\n",
    "    'label' : []\n",
    "}\n",
    "\n",
    "base_dir = os.path.join(os.getcwd(), 'Test_Images')\n",
    "for i, images in enumerate(os.listdir(base_dir)):\n",
    "    if images.endswith('ppm'):\n",
    "        images = os.path.join(base_dir, images)\n",
    "        images = np.array(io.imread(images), dtype=np.float32)\n",
    "        images = transform.resize(images, (32, 32), mode ='edge')\n",
    "        test_data['feature'].append(images)\n",
    "        test_data['label'].append(df['ClassId'][i])\n",
    "\n",
    "print(len(test_data['feature']), len(test_data['label']))"
   ]
  },
  {
   "cell_type": "markdown",
   "metadata": {},
   "source": [
    "# Data Augmentation"
   ]
  },
  {
   "cell_type": "code",
   "execution_count": 3,
   "metadata": {},
   "outputs": [],
   "source": [
    "#Data Functions\n",
    "def image_flip(feature, label):\n",
    "    vert = [1, 5, 12, 15, 17]\n",
    "    hori = [11, 12, 13, 15, 17, 18, 22, 26, 30, 35]\n",
    "    both = [32, 40]\n",
    "    chng = {19: 20, 20: 19,\n",
    "            33: 34, 34: 33,\n",
    "            36: 37, 37: 36,\n",
    "            38: 39, 39: 38}\n",
    "\n",
    "    if label in vert:\n",
    "        vert_flipped = np.flip(feature, axis=0)\n",
    "        yield vert_flipped, label\n",
    "    \n",
    "    if label in hori:\n",
    "        hori_flipped = np.flip(feature, axis=1)\n",
    "        yield hori_flipped, label\n",
    "    \n",
    "    if label in both:\n",
    "        new_image = np.flip(feature, axis=(0, 1))\n",
    "        yield new_image, label\n",
    "    \n",
    "    if label in chng:\n",
    "        flipped_image = np.flip(feature, axis=1)\n",
    "        yield flipped_image, chng[label]\n",
    "    \n",
    "\n",
    "def image_warp(feature, label=None, intensity=0.75):\n",
    "    delta = 32 * .3 * intensity\n",
    "    tl_top = random.uniform(-delta, delta)\n",
    "    tl_left = random.uniform(-delta, delta)\n",
    "    bl_bot = random.uniform(-delta, delta)\n",
    "    bl_left = random.uniform(-delta, delta)\n",
    "    tr_top = random.uniform(-delta, delta)\n",
    "    tr_right = random.uniform(-delta, delta)\n",
    "    br_bot = random.uniform(-delta, delta)\n",
    "    br_right = random.uniform(-delta, delta)\n",
    "\n",
    "    tf = ProjectiveTransform()\n",
    "    tf.estimate(np.array(((tl_left, tl_top), \n",
    "                          (bl_left, 32 - bl_bot), \n",
    "                          (32 - br_right, 32 - br_bot), \n",
    "                          (32 - tr_right, tr_top))),\n",
    "                np.array(((0, 0),\n",
    "                          (0, 32),\n",
    "                          (32, 32),\n",
    "                          (32, 0)))\n",
    "                )\n",
    "\n",
    "    new_image = transform.warp(feature, tf, order=1, mode='edge')\n",
    "    return new_image, label\n",
    "\n",
    "def image_rotate(feature, label=None, intensity=0.75):\n",
    "    delta = 30 * intensity\n",
    "    new_image = transform.rotate(feature, angle=(random.uniform(-delta, delta)), mode='edge')\n",
    "    return new_image, label\n",
    "\n",
    "def grayscale_contrast(feature):\n",
    "    new_image = 0.2989 * feature[:, :, 0] + 0.5870 * feature[:, :, 1] + 0.1140 * feature[:, :, 2]\n",
    "    new_image = exposure.equalize_adapthist(new_image)\n",
    "    return new_image\n",
    "\n"
   ]
  },
  {
   "cell_type": "code",
   "execution_count": 8,
   "metadata": {},
   "outputs": [],
   "source": [
    "#Flip Images\n",
    "dump = [[] for _ in range(len(train_data))]\n",
    "\n",
    "for i, feature in train_data.items():\n",
    "    for image in feature:\n",
    "        for feat, labl in image_flip(image, i):\n",
    "            dump[labl].append(feat)\n",
    "\n",
    "for i in range(len(dump)):\n",
    "    train_data[i] += dump[i]\n",
    "\n",
    "print(\"Done Image Flip\")"
   ]
  },
  {
   "cell_type": "code",
   "execution_count": 10,
   "metadata": {},
   "outputs": [],
   "source": [
    "#Warp Images\n",
    "temp = {i : value[:] for i, value in train_data.items()}\n",
    "max_sample = max([len(temp[i]) for i in range(len(temp))])\n",
    "\n",
    "for label, feature in train_data.items():\n",
    "    while len(feature) < max_sample:\n",
    "        aug_image, lbl = image_rotate(feature[random.randint(0, len(temp[label]) - 1)], label)\n",
    "        aug_image, lbl = image_warp(aug_image, lbl)\n",
    "        train_data[lbl].append(aug_image)\n",
    "\n",
    "print(\"Done Image Augmentation\")"
   ]
  },
  {
   "cell_type": "code",
   "execution_count": null,
   "metadata": {},
   "outputs": [],
   "source": [
    "for label, feature in train_data.items():\n",
    "    for f in feature:\n",
    "        f = grayscale_contrast(f)\n",
    "\n",
    "print(\"Done converting into Grayscale\")"
   ]
  },
  {
   "cell_type": "code",
   "execution_count": 4,
   "metadata": {},
   "outputs": [],
   "source": [
    "#Store Data into single list\n",
    "final_data = {\n",
    "    'feature': [],\n",
    "    'label': []\n",
    "}\n",
    "\n",
    "for lbl, fet in train_data.items():\n",
    "    for f in fet:\n",
    "        final_data['feature'].append(grayscale_contrast(f))\n",
    "        final_data['label'].append(lbl)"
   ]
  },
  {
   "cell_type": "code",
   "execution_count": null,
   "metadata": {},
   "outputs": [],
   "source": [
    "#Check new data\n",
    "image = final_data['feature'][random.randint(0, len(final_data['feature']) - 1)]\n",
    "plt.figure(figsize=(2, 2))\n",
    "plt.imshow(image)\n",
    "plt.xticks([])\n",
    "plt.yticks([])\n",
    "plt.show()\n",
    "\n",
    "plt.figure(figsize=(2, 2))\n",
    "image, _ = grayscale_contrast(image, 0)\n",
    "plt.imshow(image, cmap=plt.cm.gray)\n",
    "plt.xticks([])\n",
    "plt.yticks([])\n",
    "plt.show()\n",
    "\n",
    "print(image.shape)"
   ]
  },
  {
   "cell_type": "markdown",
   "metadata": {},
   "source": [
    "# Model Design"
   ]
  },
  {
   "cell_type": "code",
   "execution_count": 9,
   "metadata": {},
   "outputs": [],
   "source": [
    "import torch\n",
    "import torch.nn as nn\n",
    "from torch.utils.data import DataLoader\n",
    "from torchvision.io import read_image"
   ]
  }
 ],
 "metadata": {
  "kernelspec": {
   "display_name": "Python 3",
   "language": "python",
   "name": "python3"
  },
  "language_info": {
   "codemirror_mode": {
    "name": "ipython",
    "version": 3
   },
   "file_extension": ".py",
   "mimetype": "text/x-python",
   "name": "python",
   "nbconvert_exporter": "python",
   "pygments_lexer": "ipython3",
   "version": "3.12.6"
  }
 },
 "nbformat": 4,
 "nbformat_minor": 2
}
