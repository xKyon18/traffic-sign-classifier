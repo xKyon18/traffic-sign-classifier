{
 "cells": [
  {
   "cell_type": "code",
   "execution_count": 2,
   "metadata": {},
   "outputs": [],
   "source": [
    "import os\n",
    "import numpy as np\n",
    "import pandas as pd\n",
    "import matplotlib.pyplot as plt\n",
    "import pickle\n",
    "import random\n",
    "from skimage import io, transform, exposure\n",
    "from skimage.transform import ProjectiveTransform, rotate, warp"
   ]
  },
  {
   "cell_type": "code",
   "execution_count": 3,
   "metadata": {},
   "outputs": [],
   "source": [
    "def save_data(datafile, data):\n",
    "    with open(datafile, 'wb') as file:\n",
    "        pickle.dump(data, file)\n",
    "\n",
    "def load_data(datafile):\n",
    "    with open(datafile, 'rb') as file:\n",
    "        return pickle.load(file)"
   ]
  },
  {
   "cell_type": "code",
   "execution_count": 3,
   "metadata": {},
   "outputs": [],
   "source": [
    "#Loading Training Data\n",
    "base_dir = os.path.join(os.getcwd(), 'Training_Images')\n",
    "train_data = {i : [] for i in range(len(os.listdir(base_dir)))}\n",
    "for i, folder in zip(train_data, os.listdir(base_dir)):\n",
    "    folder_path = os.path.join(base_dir, folder)\n",
    "    for file in os.listdir(folder_path):\n",
    "        if file.endswith('ppm'):\n",
    "            file_path = os.path.join(folder_path, file)\n",
    "            image = np.array(io.imread(file_path))\n",
    "            image = transform.resize(image, (32, 32), mode='edge')\n",
    "            train_data[i].append(image)"
   ]
  },
  {
   "cell_type": "code",
   "execution_count": 4,
   "metadata": {},
   "outputs": [],
   "source": [
    "#Load Test Data\n",
    "df =  pd.read_csv('Test.csv')\n",
    "test_data = {\n",
    "    'feature' : [],\n",
    "    'label' : []\n",
    "}\n",
    "\n",
    "base_dir = os.path.join(os.getcwd(), 'Test_Images')\n",
    "for i, images in enumerate(os.listdir(base_dir)):\n",
    "    if images.endswith('ppm'):\n",
    "        images = os.path.join(base_dir, images)\n",
    "        images = np.array(io.imread(images))\n",
    "        images = transform.resize(images, (32, 32), mode ='edge')\n",
    "        test_data['feature'].append(images)\n",
    "        test_data['label'].append(df['ClassId'][i])"
   ]
  },
  {
   "cell_type": "code",
   "execution_count": 3,
   "metadata": {},
   "outputs": [],
   "source": [
    "#Data Functions\n",
    "def image_flip(feature, label):\n",
    "    vert = [1, 5, 12, 15, 17]\n",
    "    hori = [11, 12, 13, 15, 17, 18, 22, 26, 30, 35]\n",
    "    both = [32, 40]\n",
    "    chng = {19: 20, 20: 19,\n",
    "            33: 34, 34: 33,\n",
    "            36: 37, 37: 36,\n",
    "            38: 39, 39: 38}\n",
    "\n",
    "    if label in vert:\n",
    "        vert_flipped = np.flip(feature, axis=0)\n",
    "        yield vert_flipped, label\n",
    "    \n",
    "    if label in hori:\n",
    "        hori_flipped = np.flip(feature, axis=1)\n",
    "        yield hori_flipped, label\n",
    "    \n",
    "    if label in both:\n",
    "        new_image = np.flip(feature, axis=(0, 1))\n",
    "        yield new_image, label\n",
    "    \n",
    "    if label in chng:\n",
    "        flipped_image = np.flip(feature, axis=1)\n",
    "        yield flipped_image, chng[label]\n",
    "    \n",
    "\n",
    "def image_warp(feature, label=None, intensity=0.75):\n",
    "    delta = 32 * .3 * intensity\n",
    "    tl_top = random.uniform(-delta, delta)\n",
    "    tl_left = random.uniform(-delta, delta)\n",
    "    bl_bot = random.uniform(-delta, delta)\n",
    "    bl_left = random.uniform(-delta, delta)\n",
    "    tr_top = random.uniform(-delta, delta)\n",
    "    tr_right = random.uniform(-delta, delta)\n",
    "    br_bot = random.uniform(-delta, delta)\n",
    "    br_right = random.uniform(-delta, delta)\n",
    "\n",
    "    tf = ProjectiveTransform()\n",
    "    tf.estimate(np.array(((tl_left, tl_top), \n",
    "                          (bl_left, 32 - bl_bot), \n",
    "                          (32 - br_right, 32 - br_bot), \n",
    "                          (32 - tr_right, tr_top))),\n",
    "                np.array(((0, 0),\n",
    "                          (0, 32),\n",
    "                          (32, 32),\n",
    "                          (32, 0)))\n",
    "                )\n",
    "\n",
    "    new_image = transform.warp(feature, tf, order=1, mode='edge')\n",
    "    return new_image, label\n",
    "\n",
    "def image_rotate(feature, label=None, intensity=0.75):\n",
    "    delta = 30 * intensity\n",
    "    new_image = transform.rotate(feature, angle=(random.uniform(-delta, delta)), mode='edge')\n",
    "    return new_image, label\n",
    "\n",
    "def grayscale_contrast(feature):\n",
    "    new_image = 0.2989 * feature[:, :, 0] + 0.5870 * feature[:, :, 1] + 0.1140 * feature[:, :, 2]\n",
    "    new_image = exposure.equalize_adapthist(new_image)\n",
    "    return new_image\n",
    "\n"
   ]
  },
  {
   "cell_type": "code",
   "execution_count": null,
   "metadata": {},
   "outputs": [],
   "source": [
    "#Flip Images\n",
    "dump = [[] for _ in range(len(train_data))]\n",
    "\n",
    "for i, feature in train_data.items():\n",
    "    for image in feature:\n",
    "        for feat, labl in image_flip(image, i):\n",
    "            dump[labl].append(feat)\n",
    "\n",
    "for i in range(len(dump)):\n",
    "    train_data[i] += dump[i]\n",
    "\n",
    "print(\"Done Image Flip\")"
   ]
  },
  {
   "cell_type": "code",
   "execution_count": null,
   "metadata": {},
   "outputs": [],
   "source": [
    "#Warp Images\n",
    "temp = {i : value[:] for i, value in train_data.items()}\n",
    "max_sample = max([len(temp[i]) for i in range(len(temp))])\n",
    "\n",
    "for label, feature in train_data.items():\n",
    "    while len(feature) < max_sample:\n",
    "        aug_image, lbl = image_rotate(feature[random.randint(0, len(temp[label]) - 1)], label)\n",
    "        aug_image, lbl = image_warp(aug_image, lbl)\n",
    "        train_data[lbl].append(aug_image)\n",
    "\n",
    "print(\"Done Image Augmentation\")"
   ]
  },
  {
   "cell_type": "code",
   "execution_count": 8,
   "metadata": {},
   "outputs": [],
   "source": [
    "#Store Data into single list\n",
    "final_train = {\n",
    "    'feature': [],\n",
    "    'label': []\n",
    "}\n",
    "\n",
    "final_test = {\n",
    "    'feature': [],\n",
    "    'label' : []\n",
    "}\n",
    "\n",
    "for lbl, fet in train_data.items():\n",
    "    for f in fet:\n",
    "        final_train['feature'].append(grayscale_contrast(f))\n",
    "        final_train['label'].append(lbl)\n",
    "\n",
    "final_train['feature'] = np.stack(final_train['feature'])\n",
    "final_train['label'] = np.stack(final_train['label'])\n",
    "\n",
    "for fet, lbl in zip(test_data['feature'], test_data['label']):\n",
    "    for f in fet:\n",
    "        final_test['feature'].append(grayscale_contrast(f))\n",
    "        final_test['label'].append(lbl)\n",
    "\n",
    "final_test['feature'] = np.stack(final_test['feature'])\n",
    "final_test['label'] = np.stack(final_test['label'])"
   ]
  },
  {
   "cell_type": "code",
   "execution_count": 9,
   "metadata": {},
   "outputs": [],
   "source": [
    "save_data('training_data.pkl', final_train)\n",
    "save_data('test_data.pkl', final_test)"
   ]
  },
  {
   "cell_type": "code",
   "execution_count": 4,
   "metadata": {},
   "outputs": [],
   "source": [
    "train_data = load_data('training_data.pkl')\n",
    "test_data = load_data('test_data.pkl')"
   ]
  },
  {
   "cell_type": "markdown",
   "metadata": {},
   "source": [
    "# Model Design"
   ]
  },
  {
   "cell_type": "code",
   "execution_count": 5,
   "metadata": {},
   "outputs": [],
   "source": [
    "import torch\n",
    "import torch.nn as nn\n",
    "import torch.nn.functional as F\n",
    "import torch.optim as opt\n",
    "from torch.utils.data import DataLoader, TensorDataset\n",
    "from torchvision import io, transforms"
   ]
  },
  {
   "cell_type": "code",
   "execution_count": 6,
   "metadata": {},
   "outputs": [],
   "source": [
    "device = 'cuda' if torch.cuda.is_available() else 'cpu'\n",
    "df = pd.read_csv('trafficsignclassifier.csv')"
   ]
  },
  {
   "cell_type": "code",
   "execution_count": 42,
   "metadata": {},
   "outputs": [],
   "source": [
    "#Initial Hyperparameters\n",
    "num_epochs = 100\n",
    "batch_size = 100\n",
    "learning_rate = 0.001\n",
    "classes = tuple([i for i in df['signNames']])"
   ]
  },
  {
   "cell_type": "code",
   "execution_count": 43,
   "metadata": {},
   "outputs": [],
   "source": [
    "data_transform = transforms.Normalize(mean=[0.5], std=[1])"
   ]
  },
  {
   "cell_type": "code",
   "execution_count": 44,
   "metadata": {},
   "outputs": [],
   "source": [
    "class TrafficCNN(nn.Module):\n",
    "    def __init__(self):\n",
    "        super().__init__()\n",
    "        self.conv32 = nn.Conv2d(1, 32, 5, padding=2) \n",
    "        self.conv16 = nn.Conv2d(32, 64, 5, padding=2) \n",
    "        self.conv8 = nn.Conv2d(64, 128, 5, padding=2)\n",
    "        self.maxp = nn.MaxPool2d(2, 2)\n",
    "        self.fc1 = nn.Linear(128 * 4 * 4, 1024)\n",
    "        self.fc2 = nn.Linear(1024, 512)\n",
    "        self.fc3 = nn.Linear(512, 43)\n",
    "\n",
    "    def forward(self, x):\n",
    "        # Conv -> ReLU -> MaxPool -> Conv -> ReLU -> MaxPool -> Conv -> ReLU -> Maxpool\n",
    "        x = self.maxp(F.relu(self.conv32(x)))\n",
    "        x = self.maxp(F.relu(self.conv16(x)))\n",
    "        x = self.maxp(F.relu(self.conv8(x)))\n",
    "\n",
    "        x = torch.flatten(x, 1)\n",
    "\n",
    "        x = F.relu(self.fc1(x))\n",
    "        x = F.relu(self.fc2(x))\n",
    "        x = self.fc3(x)\n",
    "\n",
    "        return x"
   ]
  },
  {
   "cell_type": "code",
   "execution_count": 45,
   "metadata": {},
   "outputs": [],
   "source": [
    "X_train = torch.from_numpy(train_data['feature']).unsqueeze(1)\n",
    "X_train = data_transform(X_train)\n",
    "y_train = torch.from_numpy(train_data['label'])"
   ]
  },
  {
   "cell_type": "code",
   "execution_count": null,
   "metadata": {},
   "outputs": [],
   "source": [
    "X_test = torch.from_numpy(test_data['feature']).unsqueeze(1)\n",
    "X_test = data_transform(X_test)\n",
    "y_test = torch.from_numpy(test_data['label'])"
   ]
  },
  {
   "cell_type": "code",
   "execution_count": 46,
   "metadata": {},
   "outputs": [],
   "source": [
    "train_dataset = TensorDataset(X_train, y_train)\n",
    "loaded_train = DataLoader(train_dataset, batch_size=batch_size, shuffle=True)\n",
    "\n",
    "test_dataset = TensorDataset(X_test, y_test)\n",
    "loaded_test = DataLoader(test_dataset, batch_size=batch_size, shuffle=True)\n"
   ]
  },
  {
   "cell_type": "code",
   "execution_count": 47,
   "metadata": {},
   "outputs": [],
   "source": [
    "model = TrafficCNN().to(device)\n",
    "\n",
    "criterion = nn.CrossEntropyLoss()\n",
    "optimizer = opt.Adam(model.parameters(), lr=1e-4)"
   ]
  },
  {
   "cell_type": "code",
   "execution_count": null,
   "metadata": {},
   "outputs": [],
   "source": [
    "total_step = len(loaded_train)\n",
    "for epoch in range(num_epochs):\n",
    "    for i, (image, label) in enumerate(loaded_train):\n",
    "\n",
    "        image = image.to(device)\n",
    "        label = label.to(device)\n",
    "        #Forward Pass\n",
    "        out = model(image.float())\n",
    "\n",
    "        try:\n",
    "            loss = criterion(out, label)\n",
    "        except Exception as e:\n",
    "            print(f\"Error in loss computation: {e}\")\n",
    "            continue\n",
    "\n",
    "        #Backprop\n",
    "        try:\n",
    "            optimizer.zero_grad()\n",
    "            loss.backward()\n",
    "            optimizer.step()\n",
    "        except Exception as e:\n",
    "            print(f'Error in backpropagation: {e}')\n",
    "            continue\n",
    "\n",
    "        if (i+1) % 100 == 0:\n",
    "            print(f'Epoch {epoch + 1}: Step [{(i+1) * 100}/{total_step}] | Loss {loss.item():.4f} ')\n",
    "            \n",
    "\n",
    "print(\"Done Training\")"
   ]
  },
  {
   "cell_type": "code",
   "execution_count": null,
   "metadata": {},
   "outputs": [],
   "source": [
    "correct = 0\n",
    "total = 0\n",
    "with torch.no_grad():\n",
    "    for data, label in loaded_test:\n",
    "        data = data.to(device)\n",
    "        label = label.to(device)\n"
   ]
  }
 ],
 "metadata": {
  "kernelspec": {
   "display_name": "Python 3",
   "language": "python",
   "name": "python3"
  },
  "language_info": {
   "codemirror_mode": {
    "name": "ipython",
    "version": 3
   },
   "file_extension": ".py",
   "mimetype": "text/x-python",
   "name": "python",
   "nbconvert_exporter": "python",
   "pygments_lexer": "ipython3",
   "version": "3.12.6"
  }
 },
 "nbformat": 4,
 "nbformat_minor": 2
}
